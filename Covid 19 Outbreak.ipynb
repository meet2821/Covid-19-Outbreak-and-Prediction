{
 "cells": [
  {
   "cell_type": "markdown",
   "id": "0a0b1424",
   "metadata": {},
   "source": [
    "## Covid-19 Outbreak and Prediction"
   ]
  },
  {
   "cell_type": "code",
   "execution_count": 1,
   "id": "55401fe2",
   "metadata": {},
   "outputs": [],
   "source": [
    "import pandas as pd\n",
    "import seaborn as sns\n",
    "from matplotlib import pyplot as plt\n",
    "import datetime as dt\n",
    "import numpy as np"
   ]
  },
  {
   "cell_type": "code",
   "execution_count": 2,
   "id": "bb71a7fd",
   "metadata": {},
   "outputs": [],
   "source": [
    "covid_data=pd.read_csv(\"covid_19_india.csv\",parse_dates=['Date'],dayfirst=True)"
   ]
  },
  {
   "cell_type": "code",
   "execution_count": 3,
   "id": "4fbac1f2",
   "metadata": {},
   "outputs": [
    {
     "data": {
      "text/html": [
       "<div>\n",
       "<style scoped>\n",
       "    .dataframe tbody tr th:only-of-type {\n",
       "        vertical-align: middle;\n",
       "    }\n",
       "\n",
       "    .dataframe tbody tr th {\n",
       "        vertical-align: top;\n",
       "    }\n",
       "\n",
       "    .dataframe thead th {\n",
       "        text-align: right;\n",
       "    }\n",
       "</style>\n",
       "<table border=\"1\" class=\"dataframe\">\n",
       "  <thead>\n",
       "    <tr style=\"text-align: right;\">\n",
       "      <th></th>\n",
       "      <th>Sno</th>\n",
       "      <th>Date</th>\n",
       "      <th>Time</th>\n",
       "      <th>State/UnionTerritory</th>\n",
       "      <th>ConfirmedIndianNational</th>\n",
       "      <th>ConfirmedForeignNational</th>\n",
       "      <th>Cured</th>\n",
       "      <th>Deaths</th>\n",
       "      <th>Confirmed</th>\n",
       "    </tr>\n",
       "  </thead>\n",
       "  <tbody>\n",
       "    <tr>\n",
       "      <th>0</th>\n",
       "      <td>1</td>\n",
       "      <td>2020-01-30</td>\n",
       "      <td>6:00 PM</td>\n",
       "      <td>Kerala</td>\n",
       "      <td>1</td>\n",
       "      <td>0</td>\n",
       "      <td>0</td>\n",
       "      <td>0</td>\n",
       "      <td>1</td>\n",
       "    </tr>\n",
       "    <tr>\n",
       "      <th>1</th>\n",
       "      <td>2</td>\n",
       "      <td>2020-01-31</td>\n",
       "      <td>6:00 PM</td>\n",
       "      <td>Kerala</td>\n",
       "      <td>1</td>\n",
       "      <td>0</td>\n",
       "      <td>0</td>\n",
       "      <td>0</td>\n",
       "      <td>1</td>\n",
       "    </tr>\n",
       "    <tr>\n",
       "      <th>2</th>\n",
       "      <td>3</td>\n",
       "      <td>2020-02-01</td>\n",
       "      <td>6:00 PM</td>\n",
       "      <td>Kerala</td>\n",
       "      <td>2</td>\n",
       "      <td>0</td>\n",
       "      <td>0</td>\n",
       "      <td>0</td>\n",
       "      <td>2</td>\n",
       "    </tr>\n",
       "    <tr>\n",
       "      <th>3</th>\n",
       "      <td>4</td>\n",
       "      <td>2020-02-02</td>\n",
       "      <td>6:00 PM</td>\n",
       "      <td>Kerala</td>\n",
       "      <td>3</td>\n",
       "      <td>0</td>\n",
       "      <td>0</td>\n",
       "      <td>0</td>\n",
       "      <td>3</td>\n",
       "    </tr>\n",
       "    <tr>\n",
       "      <th>4</th>\n",
       "      <td>5</td>\n",
       "      <td>2020-02-03</td>\n",
       "      <td>6:00 PM</td>\n",
       "      <td>Kerala</td>\n",
       "      <td>3</td>\n",
       "      <td>0</td>\n",
       "      <td>0</td>\n",
       "      <td>0</td>\n",
       "      <td>3</td>\n",
       "    </tr>\n",
       "  </tbody>\n",
       "</table>\n",
       "</div>"
      ],
      "text/plain": [
       "   Sno       Date     Time State/UnionTerritory ConfirmedIndianNational  \\\n",
       "0    1 2020-01-30  6:00 PM               Kerala                       1   \n",
       "1    2 2020-01-31  6:00 PM               Kerala                       1   \n",
       "2    3 2020-02-01  6:00 PM               Kerala                       2   \n",
       "3    4 2020-02-02  6:00 PM               Kerala                       3   \n",
       "4    5 2020-02-03  6:00 PM               Kerala                       3   \n",
       "\n",
       "  ConfirmedForeignNational  Cured  Deaths  Confirmed  \n",
       "0                        0      0       0          1  \n",
       "1                        0      0       0          1  \n",
       "2                        0      0       0          2  \n",
       "3                        0      0       0          3  \n",
       "4                        0      0       0          3  "
      ]
     },
     "execution_count": 3,
     "metadata": {},
     "output_type": "execute_result"
    }
   ],
   "source": [
    "covid_data.head()"
   ]
  },
  {
   "cell_type": "code",
   "execution_count": 4,
   "id": "f7a47d10",
   "metadata": {},
   "outputs": [
    {
     "data": {
      "text/plain": [
       "(16850, 9)"
      ]
     },
     "execution_count": 4,
     "metadata": {},
     "output_type": "execute_result"
    }
   ],
   "source": [
    "covid_data.shape"
   ]
  },
  {
   "cell_type": "code",
   "execution_count": 5,
   "id": "34659ac9",
   "metadata": {},
   "outputs": [
    {
     "data": {
      "text/plain": [
       "Index(['Sno', 'Date', 'Time', 'State/UnionTerritory',\n",
       "       'ConfirmedIndianNational', 'ConfirmedForeignNational', 'Cured',\n",
       "       'Deaths', 'Confirmed'],\n",
       "      dtype='object')"
      ]
     },
     "execution_count": 5,
     "metadata": {},
     "output_type": "execute_result"
    }
   ],
   "source": [
    "covid_data.columns"
   ]
  },
  {
   "cell_type": "markdown",
   "id": "990cd376",
   "metadata": {},
   "source": [
    "## Exploratory Data Analysis and Visualization"
   ]
  },
  {
   "cell_type": "code",
   "execution_count": 6,
   "id": "8d5ca9a3",
   "metadata": {},
   "outputs": [],
   "source": [
    "covid_data=covid_data[['Date','State/UnionTerritory','Cured','Deaths','Confirmed']]\n",
    "\n",
    "covid_data.columns=['date','state','cured','deaths','confirmed']"
   ]
  },
  {
   "cell_type": "code",
   "execution_count": 7,
   "id": "81de0c71",
   "metadata": {},
   "outputs": [
    {
     "data": {
      "text/html": [
       "<div>\n",
       "<style scoped>\n",
       "    .dataframe tbody tr th:only-of-type {\n",
       "        vertical-align: middle;\n",
       "    }\n",
       "\n",
       "    .dataframe tbody tr th {\n",
       "        vertical-align: top;\n",
       "    }\n",
       "\n",
       "    .dataframe thead th {\n",
       "        text-align: right;\n",
       "    }\n",
       "</style>\n",
       "<table border=\"1\" class=\"dataframe\">\n",
       "  <thead>\n",
       "    <tr style=\"text-align: right;\">\n",
       "      <th></th>\n",
       "      <th>date</th>\n",
       "      <th>state</th>\n",
       "      <th>cured</th>\n",
       "      <th>deaths</th>\n",
       "      <th>confirmed</th>\n",
       "    </tr>\n",
       "  </thead>\n",
       "  <tbody>\n",
       "    <tr>\n",
       "      <th>0</th>\n",
       "      <td>2020-01-30</td>\n",
       "      <td>Kerala</td>\n",
       "      <td>0</td>\n",
       "      <td>0</td>\n",
       "      <td>1</td>\n",
       "    </tr>\n",
       "    <tr>\n",
       "      <th>1</th>\n",
       "      <td>2020-01-31</td>\n",
       "      <td>Kerala</td>\n",
       "      <td>0</td>\n",
       "      <td>0</td>\n",
       "      <td>1</td>\n",
       "    </tr>\n",
       "    <tr>\n",
       "      <th>2</th>\n",
       "      <td>2020-02-01</td>\n",
       "      <td>Kerala</td>\n",
       "      <td>0</td>\n",
       "      <td>0</td>\n",
       "      <td>2</td>\n",
       "    </tr>\n",
       "    <tr>\n",
       "      <th>3</th>\n",
       "      <td>2020-02-02</td>\n",
       "      <td>Kerala</td>\n",
       "      <td>0</td>\n",
       "      <td>0</td>\n",
       "      <td>3</td>\n",
       "    </tr>\n",
       "    <tr>\n",
       "      <th>4</th>\n",
       "      <td>2020-02-03</td>\n",
       "      <td>Kerala</td>\n",
       "      <td>0</td>\n",
       "      <td>0</td>\n",
       "      <td>3</td>\n",
       "    </tr>\n",
       "  </tbody>\n",
       "</table>\n",
       "</div>"
      ],
      "text/plain": [
       "        date   state  cured  deaths  confirmed\n",
       "0 2020-01-30  Kerala      0       0          1\n",
       "1 2020-01-31  Kerala      0       0          1\n",
       "2 2020-02-01  Kerala      0       0          2\n",
       "3 2020-02-02  Kerala      0       0          3\n",
       "4 2020-02-03  Kerala      0       0          3"
      ]
     },
     "execution_count": 7,
     "metadata": {},
     "output_type": "execute_result"
    }
   ],
   "source": [
    "covid_data.head()"
   ]
  },
  {
   "cell_type": "code",
   "execution_count": 8,
   "id": "b30a9d19",
   "metadata": {},
   "outputs": [
    {
     "data": {
      "text/html": [
       "<div>\n",
       "<style scoped>\n",
       "    .dataframe tbody tr th:only-of-type {\n",
       "        vertical-align: middle;\n",
       "    }\n",
       "\n",
       "    .dataframe tbody tr th {\n",
       "        vertical-align: top;\n",
       "    }\n",
       "\n",
       "    .dataframe thead th {\n",
       "        text-align: right;\n",
       "    }\n",
       "</style>\n",
       "<table border=\"1\" class=\"dataframe\">\n",
       "  <thead>\n",
       "    <tr style=\"text-align: right;\">\n",
       "      <th></th>\n",
       "      <th>date</th>\n",
       "      <th>state</th>\n",
       "      <th>cured</th>\n",
       "      <th>deaths</th>\n",
       "      <th>confirmed</th>\n",
       "    </tr>\n",
       "  </thead>\n",
       "  <tbody>\n",
       "    <tr>\n",
       "      <th>16845</th>\n",
       "      <td>2021-07-07</td>\n",
       "      <td>Telangana</td>\n",
       "      <td>613124</td>\n",
       "      <td>3703</td>\n",
       "      <td>628282</td>\n",
       "    </tr>\n",
       "    <tr>\n",
       "      <th>16846</th>\n",
       "      <td>2021-07-07</td>\n",
       "      <td>Tripura</td>\n",
       "      <td>63964</td>\n",
       "      <td>701</td>\n",
       "      <td>68612</td>\n",
       "    </tr>\n",
       "    <tr>\n",
       "      <th>16847</th>\n",
       "      <td>2021-07-07</td>\n",
       "      <td>Uttarakhand</td>\n",
       "      <td>332006</td>\n",
       "      <td>7338</td>\n",
       "      <td>340882</td>\n",
       "    </tr>\n",
       "    <tr>\n",
       "      <th>16848</th>\n",
       "      <td>2021-07-07</td>\n",
       "      <td>Uttar Pradesh</td>\n",
       "      <td>1682130</td>\n",
       "      <td>22656</td>\n",
       "      <td>1706818</td>\n",
       "    </tr>\n",
       "    <tr>\n",
       "      <th>16849</th>\n",
       "      <td>2021-07-07</td>\n",
       "      <td>West Bengal</td>\n",
       "      <td>1472132</td>\n",
       "      <td>17834</td>\n",
       "      <td>1507241</td>\n",
       "    </tr>\n",
       "  </tbody>\n",
       "</table>\n",
       "</div>"
      ],
      "text/plain": [
       "            date          state    cured  deaths  confirmed\n",
       "16845 2021-07-07      Telangana   613124    3703     628282\n",
       "16846 2021-07-07        Tripura    63964     701      68612\n",
       "16847 2021-07-07    Uttarakhand   332006    7338     340882\n",
       "16848 2021-07-07  Uttar Pradesh  1682130   22656    1706818\n",
       "16849 2021-07-07    West Bengal  1472132   17834    1507241"
      ]
     },
     "execution_count": 8,
     "metadata": {},
     "output_type": "execute_result"
    }
   ],
   "source": [
    "covid_data.tail()"
   ]
  },
  {
   "cell_type": "code",
   "execution_count": 9,
   "id": "88750f8c",
   "metadata": {},
   "outputs": [],
   "source": [
    "today=covid_data[covid_data.date=='2021-07-07']"
   ]
  },
  {
   "cell_type": "code",
   "execution_count": 10,
   "id": "d74d15ec",
   "metadata": {},
   "outputs": [
    {
     "data": {
      "text/html": [
       "<div>\n",
       "<style scoped>\n",
       "    .dataframe tbody tr th:only-of-type {\n",
       "        vertical-align: middle;\n",
       "    }\n",
       "\n",
       "    .dataframe tbody tr th {\n",
       "        vertical-align: top;\n",
       "    }\n",
       "\n",
       "    .dataframe thead th {\n",
       "        text-align: right;\n",
       "    }\n",
       "</style>\n",
       "<table border=\"1\" class=\"dataframe\">\n",
       "  <thead>\n",
       "    <tr style=\"text-align: right;\">\n",
       "      <th></th>\n",
       "      <th>date</th>\n",
       "      <th>state</th>\n",
       "      <th>cured</th>\n",
       "      <th>deaths</th>\n",
       "      <th>confirmed</th>\n",
       "    </tr>\n",
       "  </thead>\n",
       "  <tbody>\n",
       "    <tr>\n",
       "      <th>16814</th>\n",
       "      <td>2021-07-07</td>\n",
       "      <td>Andaman and Nicobar Islands</td>\n",
       "      <td>7343</td>\n",
       "      <td>128</td>\n",
       "      <td>7487</td>\n",
       "    </tr>\n",
       "    <tr>\n",
       "      <th>16815</th>\n",
       "      <td>2021-07-07</td>\n",
       "      <td>Andhra Pradesh</td>\n",
       "      <td>1861937</td>\n",
       "      <td>12898</td>\n",
       "      <td>1908065</td>\n",
       "    </tr>\n",
       "    <tr>\n",
       "      <th>16816</th>\n",
       "      <td>2021-07-07</td>\n",
       "      <td>Arunachal Pradesh</td>\n",
       "      <td>34525</td>\n",
       "      <td>181</td>\n",
       "      <td>37879</td>\n",
       "    </tr>\n",
       "    <tr>\n",
       "      <th>16817</th>\n",
       "      <td>2021-07-07</td>\n",
       "      <td>Assam</td>\n",
       "      <td>493306</td>\n",
       "      <td>4717</td>\n",
       "      <td>522267</td>\n",
       "    </tr>\n",
       "    <tr>\n",
       "      <th>16818</th>\n",
       "      <td>2021-07-07</td>\n",
       "      <td>Bihar</td>\n",
       "      <td>711913</td>\n",
       "      <td>9612</td>\n",
       "      <td>722746</td>\n",
       "    </tr>\n",
       "  </tbody>\n",
       "</table>\n",
       "</div>"
      ],
      "text/plain": [
       "            date                        state    cured  deaths  confirmed\n",
       "16814 2021-07-07  Andaman and Nicobar Islands     7343     128       7487\n",
       "16815 2021-07-07               Andhra Pradesh  1861937   12898    1908065\n",
       "16816 2021-07-07            Arunachal Pradesh    34525     181      37879\n",
       "16817 2021-07-07                        Assam   493306    4717     522267\n",
       "16818 2021-07-07                        Bihar   711913    9612     722746"
      ]
     },
     "execution_count": 10,
     "metadata": {},
     "output_type": "execute_result"
    }
   ],
   "source": [
    "today.head()"
   ]
  },
  {
   "cell_type": "code",
   "execution_count": 11,
   "id": "3cd0dbc6",
   "metadata": {},
   "outputs": [
    {
     "data": {
      "text/plain": [
       "(36, 5)"
      ]
     },
     "execution_count": 11,
     "metadata": {},
     "output_type": "execute_result"
    }
   ],
   "source": [
    "today.shape"
   ]
  },
  {
   "cell_type": "code",
   "execution_count": 12,
   "id": "2abd1d81",
   "metadata": {},
   "outputs": [
    {
     "data": {
      "text/html": [
       "<div>\n",
       "<style scoped>\n",
       "    .dataframe tbody tr th:only-of-type {\n",
       "        vertical-align: middle;\n",
       "    }\n",
       "\n",
       "    .dataframe tbody tr th {\n",
       "        vertical-align: top;\n",
       "    }\n",
       "\n",
       "    .dataframe thead th {\n",
       "        text-align: right;\n",
       "    }\n",
       "</style>\n",
       "<table border=\"1\" class=\"dataframe\">\n",
       "  <thead>\n",
       "    <tr style=\"text-align: right;\">\n",
       "      <th></th>\n",
       "      <th>date</th>\n",
       "      <th>state</th>\n",
       "      <th>cured</th>\n",
       "      <th>deaths</th>\n",
       "      <th>confirmed</th>\n",
       "    </tr>\n",
       "  </thead>\n",
       "  <tbody>\n",
       "    <tr>\n",
       "      <th>16834</th>\n",
       "      <td>2021-07-07</td>\n",
       "      <td>Maharashtra</td>\n",
       "      <td>5872268</td>\n",
       "      <td>123531</td>\n",
       "      <td>6113335</td>\n",
       "    </tr>\n",
       "    <tr>\n",
       "      <th>16830</th>\n",
       "      <td>2021-07-07</td>\n",
       "      <td>Kerala</td>\n",
       "      <td>2877557</td>\n",
       "      <td>13960</td>\n",
       "      <td>2996094</td>\n",
       "    </tr>\n",
       "    <tr>\n",
       "      <th>16829</th>\n",
       "      <td>2021-07-07</td>\n",
       "      <td>Karnataka</td>\n",
       "      <td>2784030</td>\n",
       "      <td>35526</td>\n",
       "      <td>2859595</td>\n",
       "    </tr>\n",
       "    <tr>\n",
       "      <th>16844</th>\n",
       "      <td>2021-07-07</td>\n",
       "      <td>Tamil Nadu</td>\n",
       "      <td>2435872</td>\n",
       "      <td>33132</td>\n",
       "      <td>2503481</td>\n",
       "    </tr>\n",
       "    <tr>\n",
       "      <th>16815</th>\n",
       "      <td>2021-07-07</td>\n",
       "      <td>Andhra Pradesh</td>\n",
       "      <td>1861937</td>\n",
       "      <td>12898</td>\n",
       "      <td>1908065</td>\n",
       "    </tr>\n",
       "  </tbody>\n",
       "</table>\n",
       "</div>"
      ],
      "text/plain": [
       "            date           state    cured  deaths  confirmed\n",
       "16834 2021-07-07     Maharashtra  5872268  123531    6113335\n",
       "16830 2021-07-07          Kerala  2877557   13960    2996094\n",
       "16829 2021-07-07       Karnataka  2784030   35526    2859595\n",
       "16844 2021-07-07      Tamil Nadu  2435872   33132    2503481\n",
       "16815 2021-07-07  Andhra Pradesh  1861937   12898    1908065"
      ]
     },
     "execution_count": 12,
     "metadata": {},
     "output_type": "execute_result"
    }
   ],
   "source": [
    "max_confirmed_cases=today.sort_values(by='confirmed',ascending=False)\n",
    "max_confirmed_cases.head()"
   ]
  },
  {
   "cell_type": "code",
   "execution_count": 13,
   "id": "40a47f6c",
   "metadata": {},
   "outputs": [],
   "source": [
    "top_states_confirmed=max_confirmed_cases[0:10]"
   ]
  },
  {
   "cell_type": "code",
   "execution_count": 14,
   "id": "c719f798",
   "metadata": {},
   "outputs": [
    {
     "data": {
      "image/png": "[encoded data removed]",
      "text/plain": [
       "<Figure size 1080x576 with 1 Axes>"
      ]
     },
     "metadata": {},
     "output_type": "display_data"
    }
   ],
   "source": [
    "sns.set(rc={'figure.figsize':(15,8)})\n",
    "sns.barplot(x=\"state\",y=\"confirmed\",data=top_states_confirmed,hue=\"state\")\n",
    "plt.show()"
   ]
  },
  {
   "cell_type": "code",
   "execution_count": 15,
   "id": "0015784f",
   "metadata": {},
   "outputs": [
    {
     "data": {
      "text/html": [
       "<div>\n",
       "<style scoped>\n",
       "    .dataframe tbody tr th:only-of-type {\n",
       "        vertical-align: middle;\n",
       "    }\n",
       "\n",
       "    .dataframe tbody tr th {\n",
       "        vertical-align: top;\n",
       "    }\n",
       "\n",
       "    .dataframe thead th {\n",
       "        text-align: right;\n",
       "    }\n",
       "</style>\n",
       "<table border=\"1\" class=\"dataframe\">\n",
       "  <thead>\n",
       "    <tr style=\"text-align: right;\">\n",
       "      <th></th>\n",
       "      <th>date</th>\n",
       "      <th>state</th>\n",
       "      <th>cured</th>\n",
       "      <th>deaths</th>\n",
       "      <th>confirmed</th>\n",
       "    </tr>\n",
       "  </thead>\n",
       "  <tbody>\n",
       "    <tr>\n",
       "      <th>16834</th>\n",
       "      <td>2021-07-07</td>\n",
       "      <td>Maharashtra</td>\n",
       "      <td>5872268</td>\n",
       "      <td>123531</td>\n",
       "      <td>6113335</td>\n",
       "    </tr>\n",
       "    <tr>\n",
       "      <th>16829</th>\n",
       "      <td>2021-07-07</td>\n",
       "      <td>Karnataka</td>\n",
       "      <td>2784030</td>\n",
       "      <td>35526</td>\n",
       "      <td>2859595</td>\n",
       "    </tr>\n",
       "    <tr>\n",
       "      <th>16844</th>\n",
       "      <td>2021-07-07</td>\n",
       "      <td>Tamil Nadu</td>\n",
       "      <td>2435872</td>\n",
       "      <td>33132</td>\n",
       "      <td>2503481</td>\n",
       "    </tr>\n",
       "    <tr>\n",
       "      <th>16822</th>\n",
       "      <td>2021-07-07</td>\n",
       "      <td>Delhi</td>\n",
       "      <td>1408853</td>\n",
       "      <td>25001</td>\n",
       "      <td>1434687</td>\n",
       "    </tr>\n",
       "    <tr>\n",
       "      <th>16848</th>\n",
       "      <td>2021-07-07</td>\n",
       "      <td>Uttar Pradesh</td>\n",
       "      <td>1682130</td>\n",
       "      <td>22656</td>\n",
       "      <td>1706818</td>\n",
       "    </tr>\n",
       "  </tbody>\n",
       "</table>\n",
       "</div>"
      ],
      "text/plain": [
       "            date          state    cured  deaths  confirmed\n",
       "16834 2021-07-07    Maharashtra  5872268  123531    6113335\n",
       "16829 2021-07-07      Karnataka  2784030   35526    2859595\n",
       "16844 2021-07-07     Tamil Nadu  2435872   33132    2503481\n",
       "16822 2021-07-07          Delhi  1408853   25001    1434687\n",
       "16848 2021-07-07  Uttar Pradesh  1682130   22656    1706818"
      ]
     },
     "execution_count": 15,
     "metadata": {},
     "output_type": "execute_result"
    }
   ],
   "source": [
    "max_death_cases=today.sort_values(by='deaths',ascending=False)\n",
    "max_death_cases.head()"
   ]
  },
  {
   "cell_type": "code",
   "execution_count": 16,
   "id": "8c3227de",
   "metadata": {},
   "outputs": [],
   "source": [
    "top_states_death=max_death_cases[0:10]"
   ]
  },
  {
   "cell_type": "code",
   "execution_count": 17,
   "id": "9405fa8c",
   "metadata": {},
   "outputs": [
    {
     "data": {
      "image/png": "[encoded data removed]",
      "text/plain": [
       "<Figure size 1080x576 with 1 Axes>"
      ]
     },
     "metadata": {},
     "output_type": "display_data"
    }
   ],
   "source": [
    "sns.set(rc={'figure.figsize':(15,8)})\n",
    "sns.barplot(x=\"state\",y=\"deaths\",data=top_states_death,hue=\"state\")\n",
    "plt.show()"
   ]
  },
  {
   "cell_type": "code",
   "execution_count": 18,
   "id": "1e1b0701",
   "metadata": {},
   "outputs": [
    {
     "data": {
      "text/html": [
       "<div>\n",
       "<style scoped>\n",
       "    .dataframe tbody tr th:only-of-type {\n",
       "        vertical-align: middle;\n",
       "    }\n",
       "\n",
       "    .dataframe tbody tr th {\n",
       "        vertical-align: top;\n",
       "    }\n",
       "\n",
       "    .dataframe thead th {\n",
       "        text-align: right;\n",
       "    }\n",
       "</style>\n",
       "<table border=\"1\" class=\"dataframe\">\n",
       "  <thead>\n",
       "    <tr style=\"text-align: right;\">\n",
       "      <th></th>\n",
       "      <th>date</th>\n",
       "      <th>state</th>\n",
       "      <th>cured</th>\n",
       "      <th>deaths</th>\n",
       "      <th>confirmed</th>\n",
       "    </tr>\n",
       "  </thead>\n",
       "  <tbody>\n",
       "    <tr>\n",
       "      <th>16834</th>\n",
       "      <td>2021-07-07</td>\n",
       "      <td>Maharashtra</td>\n",
       "      <td>5872268</td>\n",
       "      <td>123531</td>\n",
       "      <td>6113335</td>\n",
       "    </tr>\n",
       "    <tr>\n",
       "      <th>16830</th>\n",
       "      <td>2021-07-07</td>\n",
       "      <td>Kerala</td>\n",
       "      <td>2877557</td>\n",
       "      <td>13960</td>\n",
       "      <td>2996094</td>\n",
       "    </tr>\n",
       "    <tr>\n",
       "      <th>16829</th>\n",
       "      <td>2021-07-07</td>\n",
       "      <td>Karnataka</td>\n",
       "      <td>2784030</td>\n",
       "      <td>35526</td>\n",
       "      <td>2859595</td>\n",
       "    </tr>\n",
       "    <tr>\n",
       "      <th>16844</th>\n",
       "      <td>2021-07-07</td>\n",
       "      <td>Tamil Nadu</td>\n",
       "      <td>2435872</td>\n",
       "      <td>33132</td>\n",
       "      <td>2503481</td>\n",
       "    </tr>\n",
       "    <tr>\n",
       "      <th>16815</th>\n",
       "      <td>2021-07-07</td>\n",
       "      <td>Andhra Pradesh</td>\n",
       "      <td>1861937</td>\n",
       "      <td>12898</td>\n",
       "      <td>1908065</td>\n",
       "    </tr>\n",
       "  </tbody>\n",
       "</table>\n",
       "</div>"
      ],
      "text/plain": [
       "            date           state    cured  deaths  confirmed\n",
       "16834 2021-07-07     Maharashtra  5872268  123531    6113335\n",
       "16830 2021-07-07          Kerala  2877557   13960    2996094\n",
       "16829 2021-07-07       Karnataka  2784030   35526    2859595\n",
       "16844 2021-07-07      Tamil Nadu  2435872   33132    2503481\n",
       "16815 2021-07-07  Andhra Pradesh  1861937   12898    1908065"
      ]
     },
     "execution_count": 18,
     "metadata": {},
     "output_type": "execute_result"
    }
   ],
   "source": [
    "max_cured_cases=today.sort_values(by='cured',ascending=False)\n",
    "max_cured_cases.head()"
   ]
  },
  {
   "cell_type": "code",
   "execution_count": 19,
   "id": "ed9f050e",
   "metadata": {},
   "outputs": [],
   "source": [
    "top_states_cured=max_cured_cases[0:10]"
   ]
  },
  {
   "cell_type": "code",
   "execution_count": 20,
   "id": "89cd4a8b",
   "metadata": {},
   "outputs": [
    {
     "data": {
      "image/png": "[encoded data removed]",
      "text/plain": [
       "<Figure size 1080x576 with 1 Axes>"
      ]
     },
     "metadata": {},
     "output_type": "display_data"
    }
   ],
   "source": [
    "sns.set(rc={'figure.figsize':(15,8)})\n",
    "sns.barplot(x=\"state\",y=\"cured\",data=top_states_cured,hue=\"state\")\n",
    "plt.show()"
   ]
  },
  {
   "cell_type": "markdown",
   "id": "8178627d",
   "metadata": {},
   "source": [
    "## Visualization based on 3 states"
   ]
  },
  {
   "cell_type": "code",
   "execution_count": 21,
   "id": "60ca33bb",
   "metadata": {},
   "outputs": [],
   "source": [
    "covid_maha=covid_data[covid_data.state==\"Maharashtra\"]"
   ]
  },
  {
   "cell_type": "code",
   "execution_count": 22,
   "id": "dd3e0a38",
   "metadata": {},
   "outputs": [
    {
     "data": {
      "text/plain": [
       "(486, 5)"
      ]
     },
     "execution_count": 22,
     "metadata": {},
     "output_type": "execute_result"
    }
   ],
   "source": [
    "covid_maha.shape"
   ]
  },
  {
   "cell_type": "code",
   "execution_count": 23,
   "id": "d2ce3e9d",
   "metadata": {},
   "outputs": [
    {
     "data": {
      "text/html": [
       "<div>\n",
       "<style scoped>\n",
       "    .dataframe tbody tr th:only-of-type {\n",
       "        vertical-align: middle;\n",
       "    }\n",
       "\n",
       "    .dataframe tbody tr th {\n",
       "        vertical-align: top;\n",
       "    }\n",
       "\n",
       "    .dataframe thead th {\n",
       "        text-align: right;\n",
       "    }\n",
       "</style>\n",
       "<table border=\"1\" class=\"dataframe\">\n",
       "  <thead>\n",
       "    <tr style=\"text-align: right;\">\n",
       "      <th></th>\n",
       "      <th>date</th>\n",
       "      <th>state</th>\n",
       "      <th>cured</th>\n",
       "      <th>deaths</th>\n",
       "      <th>confirmed</th>\n",
       "    </tr>\n",
       "  </thead>\n",
       "  <tbody>\n",
       "    <tr>\n",
       "      <th>76</th>\n",
       "      <td>2020-03-09</td>\n",
       "      <td>Maharashtra</td>\n",
       "      <td>0</td>\n",
       "      <td>0</td>\n",
       "      <td>2</td>\n",
       "    </tr>\n",
       "    <tr>\n",
       "      <th>91</th>\n",
       "      <td>2020-03-10</td>\n",
       "      <td>Maharashtra</td>\n",
       "      <td>0</td>\n",
       "      <td>0</td>\n",
       "      <td>5</td>\n",
       "    </tr>\n",
       "    <tr>\n",
       "      <th>97</th>\n",
       "      <td>2020-03-11</td>\n",
       "      <td>Maharashtra</td>\n",
       "      <td>0</td>\n",
       "      <td>0</td>\n",
       "      <td>2</td>\n",
       "    </tr>\n",
       "    <tr>\n",
       "      <th>120</th>\n",
       "      <td>2020-03-12</td>\n",
       "      <td>Maharashtra</td>\n",
       "      <td>0</td>\n",
       "      <td>0</td>\n",
       "      <td>11</td>\n",
       "    </tr>\n",
       "    <tr>\n",
       "      <th>133</th>\n",
       "      <td>2020-03-13</td>\n",
       "      <td>Maharashtra</td>\n",
       "      <td>0</td>\n",
       "      <td>0</td>\n",
       "      <td>14</td>\n",
       "    </tr>\n",
       "  </tbody>\n",
       "</table>\n",
       "</div>"
      ],
      "text/plain": [
       "          date        state  cured  deaths  confirmed\n",
       "76  2020-03-09  Maharashtra      0       0          2\n",
       "91  2020-03-10  Maharashtra      0       0          5\n",
       "97  2020-03-11  Maharashtra      0       0          2\n",
       "120 2020-03-12  Maharashtra      0       0         11\n",
       "133 2020-03-13  Maharashtra      0       0         14"
      ]
     },
     "execution_count": 23,
     "metadata": {},
     "output_type": "execute_result"
    }
   ],
   "source": [
    "covid_maha.head()"
   ]
  },
  {
   "cell_type": "code",
   "execution_count": 24,
   "id": "9aaf95c9",
   "metadata": {},
   "outputs": [
    {
     "data": {
      "text/html": [
       "<div>\n",
       "<style scoped>\n",
       "    .dataframe tbody tr th:only-of-type {\n",
       "        vertical-align: middle;\n",
       "    }\n",
       "\n",
       "    .dataframe tbody tr th {\n",
       "        vertical-align: top;\n",
       "    }\n",
       "\n",
       "    .dataframe thead th {\n",
       "        text-align: right;\n",
       "    }\n",
       "</style>\n",
       "<table border=\"1\" class=\"dataframe\">\n",
       "  <thead>\n",
       "    <tr style=\"text-align: right;\">\n",
       "      <th></th>\n",
       "      <th>date</th>\n",
       "      <th>state</th>\n",
       "      <th>cured</th>\n",
       "      <th>deaths</th>\n",
       "      <th>confirmed</th>\n",
       "    </tr>\n",
       "  </thead>\n",
       "  <tbody>\n",
       "    <tr>\n",
       "      <th>16690</th>\n",
       "      <td>2021-07-03</td>\n",
       "      <td>Maharashtra</td>\n",
       "      <td>5836920</td>\n",
       "      <td>122353</td>\n",
       "      <td>6079352</td>\n",
       "    </tr>\n",
       "    <tr>\n",
       "      <th>16726</th>\n",
       "      <td>2021-07-04</td>\n",
       "      <td>Maharashtra</td>\n",
       "      <td>5845315</td>\n",
       "      <td>122724</td>\n",
       "      <td>6088841</td>\n",
       "    </tr>\n",
       "    <tr>\n",
       "      <th>16762</th>\n",
       "      <td>2021-07-05</td>\n",
       "      <td>Maharashtra</td>\n",
       "      <td>5848693</td>\n",
       "      <td>123030</td>\n",
       "      <td>6098177</td>\n",
       "    </tr>\n",
       "    <tr>\n",
       "      <th>16798</th>\n",
       "      <td>2021-07-06</td>\n",
       "      <td>Maharashtra</td>\n",
       "      <td>5861720</td>\n",
       "      <td>123136</td>\n",
       "      <td>6104917</td>\n",
       "    </tr>\n",
       "    <tr>\n",
       "      <th>16834</th>\n",
       "      <td>2021-07-07</td>\n",
       "      <td>Maharashtra</td>\n",
       "      <td>5872268</td>\n",
       "      <td>123531</td>\n",
       "      <td>6113335</td>\n",
       "    </tr>\n",
       "  </tbody>\n",
       "</table>\n",
       "</div>"
      ],
      "text/plain": [
       "            date        state    cured  deaths  confirmed\n",
       "16690 2021-07-03  Maharashtra  5836920  122353    6079352\n",
       "16726 2021-07-04  Maharashtra  5845315  122724    6088841\n",
       "16762 2021-07-05  Maharashtra  5848693  123030    6098177\n",
       "16798 2021-07-06  Maharashtra  5861720  123136    6104917\n",
       "16834 2021-07-07  Maharashtra  5872268  123531    6113335"
      ]
     },
     "execution_count": 24,
     "metadata": {},
     "output_type": "execute_result"
    }
   ],
   "source": [
    "covid_maha.tail()"
   ]
  },
  {
   "cell_type": "code",
   "execution_count": 25,
   "id": "26458006",
   "metadata": {},
   "outputs": [
    {
     "data": {
      "image/png": "[encoded data removed]",
      "text/plain": [
       "<Figure size 1080x612 with 1 Axes>"
      ]
     },
     "metadata": {},
     "output_type": "display_data"
    }
   ],
   "source": [
    "sns.set(rc={'figure.figsize':(15,8.5)})\n",
    "sns.lineplot(x=\"date\",y=\"confirmed\",data=covid_maha,color=\"g\")\n",
    "plt.show()"
   ]
  },
  {
   "cell_type": "code",
   "execution_count": 26,
   "id": "e17e1047",
   "metadata": {},
   "outputs": [
    {
     "data": {
      "image/png": "[encoded data removed]",
      "text/plain": [
       "<Figure size 1080x612 with 1 Axes>"
      ]
     },
     "metadata": {},
     "output_type": "display_data"
    }
   ],
   "source": [
    "sns.set(rc={'figure.figsize':(15,8.5)})\n",
    "sns.lineplot(x=\"date\",y=\"deaths\",data=covid_maha,color=\"r\")\n",
    "plt.show()"
   ]
  },
  {
   "cell_type": "code",
   "execution_count": 27,
   "id": "9260807c",
   "metadata": {},
   "outputs": [],
   "source": [
    "##kerala"
   ]
  },
  {
   "cell_type": "code",
   "execution_count": 28,
   "id": "f12df33f",
   "metadata": {},
   "outputs": [
    {
     "data": {
      "text/html": [
       "<div>\n",
       "<style scoped>\n",
       "    .dataframe tbody tr th:only-of-type {\n",
       "        vertical-align: middle;\n",
       "    }\n",
       "\n",
       "    .dataframe tbody tr th {\n",
       "        vertical-align: top;\n",
       "    }\n",
       "\n",
       "    .dataframe thead th {\n",
       "        text-align: right;\n",
       "    }\n",
       "</style>\n",
       "<table border=\"1\" class=\"dataframe\">\n",
       "  <thead>\n",
       "    <tr style=\"text-align: right;\">\n",
       "      <th></th>\n",
       "      <th>date</th>\n",
       "      <th>state</th>\n",
       "      <th>cured</th>\n",
       "      <th>deaths</th>\n",
       "      <th>confirmed</th>\n",
       "    </tr>\n",
       "  </thead>\n",
       "  <tbody>\n",
       "    <tr>\n",
       "      <th>0</th>\n",
       "      <td>2020-01-30</td>\n",
       "      <td>Kerala</td>\n",
       "      <td>0</td>\n",
       "      <td>0</td>\n",
       "      <td>1</td>\n",
       "    </tr>\n",
       "    <tr>\n",
       "      <th>1</th>\n",
       "      <td>2020-01-31</td>\n",
       "      <td>Kerala</td>\n",
       "      <td>0</td>\n",
       "      <td>0</td>\n",
       "      <td>1</td>\n",
       "    </tr>\n",
       "    <tr>\n",
       "      <th>2</th>\n",
       "      <td>2020-02-01</td>\n",
       "      <td>Kerala</td>\n",
       "      <td>0</td>\n",
       "      <td>0</td>\n",
       "      <td>2</td>\n",
       "    </tr>\n",
       "    <tr>\n",
       "      <th>3</th>\n",
       "      <td>2020-02-02</td>\n",
       "      <td>Kerala</td>\n",
       "      <td>0</td>\n",
       "      <td>0</td>\n",
       "      <td>3</td>\n",
       "    </tr>\n",
       "    <tr>\n",
       "      <th>4</th>\n",
       "      <td>2020-02-03</td>\n",
       "      <td>Kerala</td>\n",
       "      <td>0</td>\n",
       "      <td>0</td>\n",
       "      <td>3</td>\n",
       "    </tr>\n",
       "  </tbody>\n",
       "</table>\n",
       "</div>"
      ],
      "text/plain": [
       "        date   state  cured  deaths  confirmed\n",
       "0 2020-01-30  Kerala      0       0          1\n",
       "1 2020-01-31  Kerala      0       0          1\n",
       "2 2020-02-01  Kerala      0       0          2\n",
       "3 2020-02-02  Kerala      0       0          3\n",
       "4 2020-02-03  Kerala      0       0          3"
      ]
     },
     "execution_count": 28,
     "metadata": {},
     "output_type": "execute_result"
    }
   ],
   "source": [
    "covid_kerala=covid_data[covid_data.state==\"Kerala\"]\n",
    "covid_kerala.head()"
   ]
  },
  {
   "cell_type": "code",
   "execution_count": 29,
   "id": "d1be28aa",
   "metadata": {},
   "outputs": [
    {
     "data": {
      "text/html": [
       "<div>\n",
       "<style scoped>\n",
       "    .dataframe tbody tr th:only-of-type {\n",
       "        vertical-align: middle;\n",
       "    }\n",
       "\n",
       "    .dataframe tbody tr th {\n",
       "        vertical-align: top;\n",
       "    }\n",
       "\n",
       "    .dataframe thead th {\n",
       "        text-align: right;\n",
       "    }\n",
       "</style>\n",
       "<table border=\"1\" class=\"dataframe\">\n",
       "  <thead>\n",
       "    <tr style=\"text-align: right;\">\n",
       "      <th></th>\n",
       "      <th>date</th>\n",
       "      <th>state</th>\n",
       "      <th>cured</th>\n",
       "      <th>deaths</th>\n",
       "      <th>confirmed</th>\n",
       "    </tr>\n",
       "  </thead>\n",
       "  <tbody>\n",
       "    <tr>\n",
       "      <th>16686</th>\n",
       "      <td>2021-07-03</td>\n",
       "      <td>Kerala</td>\n",
       "      <td>2831394</td>\n",
       "      <td>13505</td>\n",
       "      <td>2949128</td>\n",
       "    </tr>\n",
       "    <tr>\n",
       "      <th>16722</th>\n",
       "      <td>2021-07-04</td>\n",
       "      <td>Kerala</td>\n",
       "      <td>2843909</td>\n",
       "      <td>13640</td>\n",
       "      <td>2961584</td>\n",
       "    </tr>\n",
       "    <tr>\n",
       "      <th>16758</th>\n",
       "      <td>2021-07-05</td>\n",
       "      <td>Kerala</td>\n",
       "      <td>2855460</td>\n",
       "      <td>13716</td>\n",
       "      <td>2973684</td>\n",
       "    </tr>\n",
       "    <tr>\n",
       "      <th>16794</th>\n",
       "      <td>2021-07-06</td>\n",
       "      <td>Kerala</td>\n",
       "      <td>2866806</td>\n",
       "      <td>13818</td>\n",
       "      <td>2981721</td>\n",
       "    </tr>\n",
       "    <tr>\n",
       "      <th>16830</th>\n",
       "      <td>2021-07-07</td>\n",
       "      <td>Kerala</td>\n",
       "      <td>2877557</td>\n",
       "      <td>13960</td>\n",
       "      <td>2996094</td>\n",
       "    </tr>\n",
       "  </tbody>\n",
       "</table>\n",
       "</div>"
      ],
      "text/plain": [
       "            date   state    cured  deaths  confirmed\n",
       "16686 2021-07-03  Kerala  2831394   13505    2949128\n",
       "16722 2021-07-04  Kerala  2843909   13640    2961584\n",
       "16758 2021-07-05  Kerala  2855460   13716    2973684\n",
       "16794 2021-07-06  Kerala  2866806   13818    2981721\n",
       "16830 2021-07-07  Kerala  2877557   13960    2996094"
      ]
     },
     "execution_count": 29,
     "metadata": {},
     "output_type": "execute_result"
    }
   ],
   "source": [
    "covid_kerala.tail()"
   ]
  },
  {
   "cell_type": "code",
   "execution_count": 30,
   "id": "4337b8d1",
   "metadata": {},
   "outputs": [
    {
     "data": {
      "image/png": "[encoded data removed]",
      "text/plain": [
       "<Figure size 1080x612 with 1 Axes>"
      ]
     },
     "metadata": {},
     "output_type": "display_data"
    }
   ],
   "source": [
    "sns.set(rc={'figure.figsize':(15,8.5)})\n",
    "sns.lineplot(x=\"date\",y=\"confirmed\",data=covid_kerala,color=\"g\")\n",
    "plt.show()"
   ]
  },
  {
   "cell_type": "code",
   "execution_count": 31,
   "id": "20a271de",
   "metadata": {},
   "outputs": [
    {
     "data": {
      "image/png": "[encoded data removed]",
      "text/plain": [
       "<Figure size 1080x612 with 1 Axes>"
      ]
     },
     "metadata": {},
     "output_type": "display_data"
    }
   ],
   "source": [
    "sns.set(rc={'figure.figsize':(15,8.5)})\n",
    "sns.lineplot(x=\"date\",y=\"deaths\",data=covid_kerala,color=\"r\")\n",
    "plt.show()"
   ]
  },
  {
   "cell_type": "code",
   "execution_count": 32,
   "id": "54475d4d",
   "metadata": {},
   "outputs": [],
   "source": [
    "##gujarat"
   ]
  },
  {
   "cell_type": "code",
   "execution_count": 33,
   "id": "3ec751f3",
   "metadata": {},
   "outputs": [
    {
     "data": {
      "text/html": [
       "<div>\n",
       "<style scoped>\n",
       "    .dataframe tbody tr th:only-of-type {\n",
       "        vertical-align: middle;\n",
       "    }\n",
       "\n",
       "    .dataframe tbody tr th {\n",
       "        vertical-align: top;\n",
       "    }\n",
       "\n",
       "    .dataframe thead th {\n",
       "        text-align: right;\n",
       "    }\n",
       "</style>\n",
       "<table border=\"1\" class=\"dataframe\">\n",
       "  <thead>\n",
       "    <tr style=\"text-align: right;\">\n",
       "      <th></th>\n",
       "      <th>date</th>\n",
       "      <th>state</th>\n",
       "      <th>cured</th>\n",
       "      <th>deaths</th>\n",
       "      <th>confirmed</th>\n",
       "    </tr>\n",
       "  </thead>\n",
       "  <tbody>\n",
       "    <tr>\n",
       "      <th>231</th>\n",
       "      <td>2020-03-20</td>\n",
       "      <td>Gujarat</td>\n",
       "      <td>0</td>\n",
       "      <td>0</td>\n",
       "      <td>5</td>\n",
       "    </tr>\n",
       "    <tr>\n",
       "      <th>251</th>\n",
       "      <td>2020-03-21</td>\n",
       "      <td>Gujarat</td>\n",
       "      <td>0</td>\n",
       "      <td>0</td>\n",
       "      <td>7</td>\n",
       "    </tr>\n",
       "    <tr>\n",
       "      <th>274</th>\n",
       "      <td>2020-03-22</td>\n",
       "      <td>Gujarat</td>\n",
       "      <td>0</td>\n",
       "      <td>1</td>\n",
       "      <td>18</td>\n",
       "    </tr>\n",
       "    <tr>\n",
       "      <th>297</th>\n",
       "      <td>2020-03-23</td>\n",
       "      <td>Gujarat</td>\n",
       "      <td>0</td>\n",
       "      <td>1</td>\n",
       "      <td>29</td>\n",
       "    </tr>\n",
       "    <tr>\n",
       "      <th>320</th>\n",
       "      <td>2020-03-24</td>\n",
       "      <td>Gujarat</td>\n",
       "      <td>0</td>\n",
       "      <td>1</td>\n",
       "      <td>33</td>\n",
       "    </tr>\n",
       "  </tbody>\n",
       "</table>\n",
       "</div>"
      ],
      "text/plain": [
       "          date    state  cured  deaths  confirmed\n",
       "231 2020-03-20  Gujarat      0       0          5\n",
       "251 2020-03-21  Gujarat      0       0          7\n",
       "274 2020-03-22  Gujarat      0       1         18\n",
       "297 2020-03-23  Gujarat      0       1         29\n",
       "320 2020-03-24  Gujarat      0       1         33"
      ]
     },
     "execution_count": 33,
     "metadata": {},
     "output_type": "execute_result"
    }
   ],
   "source": [
    "covid_gujarat=covid_data[covid_data.state==\"Gujarat\"]\n",
    "covid_gujarat.head()"
   ]
  },
  {
   "cell_type": "code",
   "execution_count": 34,
   "id": "72340daf",
   "metadata": {},
   "outputs": [
    {
     "data": {
      "text/html": [
       "<div>\n",
       "<style scoped>\n",
       "    .dataframe tbody tr th:only-of-type {\n",
       "        vertical-align: middle;\n",
       "    }\n",
       "\n",
       "    .dataframe tbody tr th {\n",
       "        vertical-align: top;\n",
       "    }\n",
       "\n",
       "    .dataframe thead th {\n",
       "        text-align: right;\n",
       "    }\n",
       "</style>\n",
       "<table border=\"1\" class=\"dataframe\">\n",
       "  <thead>\n",
       "    <tr style=\"text-align: right;\">\n",
       "      <th></th>\n",
       "      <th>date</th>\n",
       "      <th>state</th>\n",
       "      <th>cured</th>\n",
       "      <th>deaths</th>\n",
       "      <th>confirmed</th>\n",
       "    </tr>\n",
       "  </thead>\n",
       "  <tbody>\n",
       "    <tr>\n",
       "      <th>16680</th>\n",
       "      <td>2021-07-03</td>\n",
       "      <td>Gujarat</td>\n",
       "      <td>810979</td>\n",
       "      <td>10064</td>\n",
       "      <td>823687</td>\n",
       "    </tr>\n",
       "    <tr>\n",
       "      <th>16716</th>\n",
       "      <td>2021-07-04</td>\n",
       "      <td>Gujarat</td>\n",
       "      <td>811169</td>\n",
       "      <td>10067</td>\n",
       "      <td>823763</td>\n",
       "    </tr>\n",
       "    <tr>\n",
       "      <th>16752</th>\n",
       "      <td>2021-07-05</td>\n",
       "      <td>Gujarat</td>\n",
       "      <td>811297</td>\n",
       "      <td>10069</td>\n",
       "      <td>823833</td>\n",
       "    </tr>\n",
       "    <tr>\n",
       "      <th>16788</th>\n",
       "      <td>2021-07-06</td>\n",
       "      <td>Gujarat</td>\n",
       "      <td>811491</td>\n",
       "      <td>10071</td>\n",
       "      <td>823895</td>\n",
       "    </tr>\n",
       "    <tr>\n",
       "      <th>16824</th>\n",
       "      <td>2021-07-07</td>\n",
       "      <td>Gujarat</td>\n",
       "      <td>811699</td>\n",
       "      <td>10072</td>\n",
       "      <td>823964</td>\n",
       "    </tr>\n",
       "  </tbody>\n",
       "</table>\n",
       "</div>"
      ],
      "text/plain": [
       "            date    state   cured  deaths  confirmed\n",
       "16680 2021-07-03  Gujarat  810979   10064     823687\n",
       "16716 2021-07-04  Gujarat  811169   10067     823763\n",
       "16752 2021-07-05  Gujarat  811297   10069     823833\n",
       "16788 2021-07-06  Gujarat  811491   10071     823895\n",
       "16824 2021-07-07  Gujarat  811699   10072     823964"
      ]
     },
     "execution_count": 34,
     "metadata": {},
     "output_type": "execute_result"
    }
   ],
   "source": [
    "covid_gujarat.tail()"
   ]
  },
  {
   "cell_type": "code",
   "execution_count": 35,
   "id": "ff94dd60",
   "metadata": {},
   "outputs": [
    {
     "data": {
      "image/png": "[encoded data removed]",
      "text/plain": [
       "<Figure size 1080x612 with 1 Axes>"
      ]
     },
     "metadata": {},
     "output_type": "display_data"
    }
   ],
   "source": [
    "sns.set(rc={'figure.figsize':(15,8.5)})\n",
    "sns.lineplot(x=\"date\",y=\"confirmed\",data=covid_gujarat,color=\"g\")\n",
    "plt.show()"
   ]
  },
  {
   "cell_type": "code",
   "execution_count": 36,
   "id": "5b3d6e80",
   "metadata": {},
   "outputs": [
    {
     "data": {
      "image/png": "[encoded data removed]",
      "text/plain": [
       "<Figure size 1080x612 with 1 Axes>"
      ]
     },
     "metadata": {},
     "output_type": "display_data"
    }
   ],
   "source": [
    "sns.set(rc={'figure.figsize':(15,8.5)})\n",
    "sns.lineplot(x=\"date\",y=\"deaths\",data=covid_gujarat,color=\"r\")\n",
    "plt.show()"
   ]
  },
  {
   "cell_type": "markdown",
   "id": "6a2bfc1c",
   "metadata": {},
   "source": [
    "## Predicted the Disease Using Regression"
   ]
  },
  {
   "cell_type": "code",
   "execution_count": 38,
   "id": "8a22a48f",
   "metadata": {},
   "outputs": [],
   "source": [
    "covid_tests=pd.read_csv(\"StatewiseTestingDetails.csv\")"
   ]
  },
  {
   "cell_type": "code",
   "execution_count": 39,
   "id": "014c250c",
   "metadata": {},
   "outputs": [
    {
     "data": {
      "text/html": [
       "<div>\n",
       "<style scoped>\n",
       "    .dataframe tbody tr th:only-of-type {\n",
       "        vertical-align: middle;\n",
       "    }\n",
       "\n",
       "    .dataframe tbody tr th {\n",
       "        vertical-align: top;\n",
       "    }\n",
       "\n",
       "    .dataframe thead th {\n",
       "        text-align: right;\n",
       "    }\n",
       "</style>\n",
       "<table border=\"1\" class=\"dataframe\">\n",
       "  <thead>\n",
       "    <tr style=\"text-align: right;\">\n",
       "      <th></th>\n",
       "      <th>Date</th>\n",
       "      <th>State</th>\n",
       "      <th>TotalSamples</th>\n",
       "      <th>Negative</th>\n",
       "      <th>Positive</th>\n",
       "    </tr>\n",
       "  </thead>\n",
       "  <tbody>\n",
       "    <tr>\n",
       "      <th>0</th>\n",
       "      <td>2020-04-17</td>\n",
       "      <td>Andaman and Nicobar Islands</td>\n",
       "      <td>1403.0</td>\n",
       "      <td>1210</td>\n",
       "      <td>12.0</td>\n",
       "    </tr>\n",
       "    <tr>\n",
       "      <th>1</th>\n",
       "      <td>2020-04-24</td>\n",
       "      <td>Andaman and Nicobar Islands</td>\n",
       "      <td>2679.0</td>\n",
       "      <td>NaN</td>\n",
       "      <td>27.0</td>\n",
       "    </tr>\n",
       "    <tr>\n",
       "      <th>2</th>\n",
       "      <td>2020-04-27</td>\n",
       "      <td>Andaman and Nicobar Islands</td>\n",
       "      <td>2848.0</td>\n",
       "      <td>NaN</td>\n",
       "      <td>33.0</td>\n",
       "    </tr>\n",
       "    <tr>\n",
       "      <th>3</th>\n",
       "      <td>2020-05-01</td>\n",
       "      <td>Andaman and Nicobar Islands</td>\n",
       "      <td>3754.0</td>\n",
       "      <td>NaN</td>\n",
       "      <td>33.0</td>\n",
       "    </tr>\n",
       "    <tr>\n",
       "      <th>4</th>\n",
       "      <td>2020-05-16</td>\n",
       "      <td>Andaman and Nicobar Islands</td>\n",
       "      <td>6677.0</td>\n",
       "      <td>NaN</td>\n",
       "      <td>33.0</td>\n",
       "    </tr>\n",
       "  </tbody>\n",
       "</table>\n",
       "</div>"
      ],
      "text/plain": [
       "         Date                        State  TotalSamples Negative  Positive\n",
       "0  2020-04-17  Andaman and Nicobar Islands        1403.0     1210      12.0\n",
       "1  2020-04-24  Andaman and Nicobar Islands        2679.0      NaN      27.0\n",
       "2  2020-04-27  Andaman and Nicobar Islands        2848.0      NaN      33.0\n",
       "3  2020-05-01  Andaman and Nicobar Islands        3754.0      NaN      33.0\n",
       "4  2020-05-16  Andaman and Nicobar Islands        6677.0      NaN      33.0"
      ]
     },
     "execution_count": 39,
     "metadata": {},
     "output_type": "execute_result"
    }
   ],
   "source": [
    "covid_tests.head()"
   ]
  },
  {
   "cell_type": "code",
   "execution_count": 40,
   "id": "4f2a257e",
   "metadata": {},
   "outputs": [
    {
     "data": {
      "text/html": [
       "<div>\n",
       "<style scoped>\n",
       "    .dataframe tbody tr th:only-of-type {\n",
       "        vertical-align: middle;\n",
       "    }\n",
       "\n",
       "    .dataframe tbody tr th {\n",
       "        vertical-align: top;\n",
       "    }\n",
       "\n",
       "    .dataframe thead th {\n",
       "        text-align: right;\n",
       "    }\n",
       "</style>\n",
       "<table border=\"1\" class=\"dataframe\">\n",
       "  <thead>\n",
       "    <tr style=\"text-align: right;\">\n",
       "      <th></th>\n",
       "      <th>Date</th>\n",
       "      <th>State</th>\n",
       "      <th>TotalSamples</th>\n",
       "      <th>Negative</th>\n",
       "      <th>Positive</th>\n",
       "    </tr>\n",
       "  </thead>\n",
       "  <tbody>\n",
       "    <tr>\n",
       "      <th>15108</th>\n",
       "      <td>2021-07-02</td>\n",
       "      <td>West Bengal</td>\n",
       "      <td>14325099.0</td>\n",
       "      <td>NaN</td>\n",
       "      <td>NaN</td>\n",
       "    </tr>\n",
       "    <tr>\n",
       "      <th>15109</th>\n",
       "      <td>2021-07-03</td>\n",
       "      <td>West Bengal</td>\n",
       "      <td>14377860.0</td>\n",
       "      <td>NaN</td>\n",
       "      <td>NaN</td>\n",
       "    </tr>\n",
       "    <tr>\n",
       "      <th>15110</th>\n",
       "      <td>2021-07-04</td>\n",
       "      <td>West Bengal</td>\n",
       "      <td>14430084.0</td>\n",
       "      <td>NaN</td>\n",
       "      <td>NaN</td>\n",
       "    </tr>\n",
       "    <tr>\n",
       "      <th>15111</th>\n",
       "      <td>2021-07-05</td>\n",
       "      <td>West Bengal</td>\n",
       "      <td>14470472.0</td>\n",
       "      <td>NaN</td>\n",
       "      <td>NaN</td>\n",
       "    </tr>\n",
       "    <tr>\n",
       "      <th>15112</th>\n",
       "      <td>2021-07-06</td>\n",
       "      <td>West Bengal</td>\n",
       "      <td>14516751.0</td>\n",
       "      <td>NaN</td>\n",
       "      <td>NaN</td>\n",
       "    </tr>\n",
       "  </tbody>\n",
       "</table>\n",
       "</div>"
      ],
      "text/plain": [
       "             Date        State  TotalSamples Negative  Positive\n",
       "15108  2021-07-02  West Bengal    14325099.0      NaN       NaN\n",
       "15109  2021-07-03  West Bengal    14377860.0      NaN       NaN\n",
       "15110  2021-07-04  West Bengal    14430084.0      NaN       NaN\n",
       "15111  2021-07-05  West Bengal    14470472.0      NaN       NaN\n",
       "15112  2021-07-06  West Bengal    14516751.0      NaN       NaN"
      ]
     },
     "execution_count": 40,
     "metadata": {},
     "output_type": "execute_result"
    }
   ],
   "source": [
    "covid_tests.tail()"
   ]
  },
  {
   "cell_type": "code",
   "execution_count": 41,
   "id": "c1eb7ef7",
   "metadata": {},
   "outputs": [],
   "source": [
    "covid_tests.fillna(0,inplace=True)"
   ]
  },
  {
   "cell_type": "code",
   "execution_count": 42,
   "id": "2773be52",
   "metadata": {},
   "outputs": [],
   "source": [
    "from sklearn.model_selection import train_test_split"
   ]
  },
  {
   "cell_type": "code",
   "execution_count": 43,
   "id": "0c7d9c30",
   "metadata": {},
   "outputs": [
    {
     "name": "stderr",
     "output_type": "stream",
     "text": [
      "<ipython-input-43-71b08c503671>:1: SettingWithCopyWarning: \n",
      "A value is trying to be set on a copy of a slice from a DataFrame.\n",
      "Try using .loc[row_indexer,col_indexer] = value instead\n",
      "\n",
      "See the caveats in the documentation: https://pandas.pydata.org/pandas-docs/stable/user_guide/indexing.html#returning-a-view-versus-a-copy\n",
      "  covid_maha['date']=covid_maha['date'].map(dt.datetime.toordinal)\n"
     ]
    }
   ],
   "source": [
    "covid_maha['date']=covid_maha['date'].map(dt.datetime.toordinal)"
   ]
  },
  {
   "cell_type": "code",
   "execution_count": 44,
   "id": "87462c0b",
   "metadata": {},
   "outputs": [
    {
     "data": {
      "text/html": [
       "<div>\n",
       "<style scoped>\n",
       "    .dataframe tbody tr th:only-of-type {\n",
       "        vertical-align: middle;\n",
       "    }\n",
       "\n",
       "    .dataframe tbody tr th {\n",
       "        vertical-align: top;\n",
       "    }\n",
       "\n",
       "    .dataframe thead th {\n",
       "        text-align: right;\n",
       "    }\n",
       "</style>\n",
       "<table border=\"1\" class=\"dataframe\">\n",
       "  <thead>\n",
       "    <tr style=\"text-align: right;\">\n",
       "      <th></th>\n",
       "      <th>date</th>\n",
       "      <th>state</th>\n",
       "      <th>cured</th>\n",
       "      <th>deaths</th>\n",
       "      <th>confirmed</th>\n",
       "    </tr>\n",
       "  </thead>\n",
       "  <tbody>\n",
       "    <tr>\n",
       "      <th>76</th>\n",
       "      <td>737493</td>\n",
       "      <td>Maharashtra</td>\n",
       "      <td>0</td>\n",
       "      <td>0</td>\n",
       "      <td>2</td>\n",
       "    </tr>\n",
       "    <tr>\n",
       "      <th>91</th>\n",
       "      <td>737494</td>\n",
       "      <td>Maharashtra</td>\n",
       "      <td>0</td>\n",
       "      <td>0</td>\n",
       "      <td>5</td>\n",
       "    </tr>\n",
       "    <tr>\n",
       "      <th>97</th>\n",
       "      <td>737495</td>\n",
       "      <td>Maharashtra</td>\n",
       "      <td>0</td>\n",
       "      <td>0</td>\n",
       "      <td>2</td>\n",
       "    </tr>\n",
       "    <tr>\n",
       "      <th>120</th>\n",
       "      <td>737496</td>\n",
       "      <td>Maharashtra</td>\n",
       "      <td>0</td>\n",
       "      <td>0</td>\n",
       "      <td>11</td>\n",
       "    </tr>\n",
       "    <tr>\n",
       "      <th>133</th>\n",
       "      <td>737497</td>\n",
       "      <td>Maharashtra</td>\n",
       "      <td>0</td>\n",
       "      <td>0</td>\n",
       "      <td>14</td>\n",
       "    </tr>\n",
       "  </tbody>\n",
       "</table>\n",
       "</div>"
      ],
      "text/plain": [
       "       date        state  cured  deaths  confirmed\n",
       "76   737493  Maharashtra      0       0          2\n",
       "91   737494  Maharashtra      0       0          5\n",
       "97   737495  Maharashtra      0       0          2\n",
       "120  737496  Maharashtra      0       0         11\n",
       "133  737497  Maharashtra      0       0         14"
      ]
     },
     "execution_count": 44,
     "metadata": {},
     "output_type": "execute_result"
    }
   ],
   "source": [
    "covid_maha.head()"
   ]
  },
  {
   "cell_type": "code",
   "execution_count": 45,
   "id": "997d948f",
   "metadata": {},
   "outputs": [],
   "source": [
    "X=covid_maha['date']\n",
    "y=covid_maha['confirmed']"
   ]
  },
  {
   "cell_type": "code",
   "execution_count": 47,
   "id": "745facdb",
   "metadata": {},
   "outputs": [],
   "source": [
    "X_train,x_test,y_train,y_test=train_test_split(X,y,test_size=0.3)"
   ]
  },
  {
   "cell_type": "code",
   "execution_count": 48,
   "id": "342f1d7a",
   "metadata": {},
   "outputs": [],
   "source": [
    "from sklearn.ensemble import RandomForestRegressor"
   ]
  },
  {
   "cell_type": "code",
   "execution_count": 49,
   "id": "52002889",
   "metadata": {},
   "outputs": [],
   "source": [
    "rf=RandomForestRegressor()"
   ]
  },
  {
   "cell_type": "code",
   "execution_count": 50,
   "id": "1951b822",
   "metadata": {},
   "outputs": [
    {
     "name": "stderr",
     "output_type": "stream",
     "text": [
      "<ipython-input-50-a3fbd0a29ed0>:1: DataConversionWarning: A column-vector y was passed when a 1d array was expected. Please change the shape of y to (n_samples,), for example using ravel().\n",
      "  rf.fit(np.array(X_train).reshape(-1,1),np.array(y_train).reshape(-1,1))\n"
     ]
    },
    {
     "data": {
      "text/plain": [
       "RandomForestRegressor()"
      ]
     },
     "execution_count": 50,
     "metadata": {},
     "output_type": "execute_result"
    }
   ],
   "source": [
    "rf.fit(np.array(X_train).reshape(-1,1),np.array(y_train).reshape(-1,1))"
   ]
  },
  {
   "cell_type": "code",
   "execution_count": 51,
   "id": "5c46676e",
   "metadata": {},
   "outputs": [
    {
     "data": {
      "text/plain": [
       "array([16.28])"
      ]
     },
     "execution_count": 51,
     "metadata": {},
     "output_type": "execute_result"
    }
   ],
   "source": [
    "rf.predict([[737498]])"
   ]
  },
  {
   "cell_type": "code",
   "execution_count": 52,
   "id": "8a97363c",
   "metadata": {},
   "outputs": [],
   "source": [
    "from sklearn.linear_model import LinearRegression"
   ]
  },
  {
   "cell_type": "code",
   "execution_count": 54,
   "id": "9a0f47e4",
   "metadata": {},
   "outputs": [
    {
     "data": {
      "text/plain": [
       "LinearRegression()"
      ]
     },
     "execution_count": 54,
     "metadata": {},
     "output_type": "execute_result"
    }
   ],
   "source": [
    "lr=LinearRegression()\n",
    "lr.fit(np.array(X_train).reshape(-1,1),np.array(y_train).reshape(-1,1))"
   ]
  },
  {
   "cell_type": "code",
   "execution_count": 55,
   "id": "4882774d",
   "metadata": {},
   "outputs": [],
   "source": [
    "y_pred=lr.predict(np.array(x_test).reshape(-1,1))"
   ]
  },
  {
   "cell_type": "code",
   "execution_count": 56,
   "id": "0e9c4031",
   "metadata": {},
   "outputs": [
    {
     "data": {
      "text/plain": [
       "array([[ 2270890.93729019],\n",
       "       [ 2654598.1453228 ],\n",
       "       [ 3422012.56138802],\n",
       "       [ 3649838.71615601],\n",
       "       [ -283160.16617393],\n",
       "       [ 3637847.86590576],\n",
       "       [ -534968.02144432],\n",
       "       [ 2067046.4830246 ],\n",
       "       [ -510986.32094193],\n",
       "       [ 3721783.81766319],\n",
       "       [ -738812.47571182],\n",
       "       [ 2198945.83578491],\n",
       "       [ 3553911.91414833],\n",
       "       [ 4045536.77444077],\n",
       "       [ 3757756.36841583],\n",
       "       [ 3158213.85586548],\n",
       "       [ 2630616.4448204 ],\n",
       "       [ 3242149.80762291],\n",
       "       [ -834739.2777195 ],\n",
       "       [ 3386040.01063538],\n",
       "       [ -666867.37420654],\n",
       "       [ 1575421.62273216],\n",
       "       [ 3937619.12218094],\n",
       "       [ 4752996.93924904],\n",
       "       [ -187233.36416626],\n",
       "       [  -19361.4606514 ],\n",
       "       [ 3086268.7543602 ],\n",
       "       [  268418.94537354],\n",
       "       [ 3014323.65285301],\n",
       "       [   16611.09010124],\n",
       "       [ 3002332.80260277],\n",
       "       [ -594922.27269936],\n",
       "       [   64574.49110603],\n",
       "       [ 2330845.18854523],\n",
       "       [ 4693042.687994  ],\n",
       "       [  676107.85390663],\n",
       "       [ -103297.41240883],\n",
       "       [ -307141.86667633],\n",
       "       [ 4213408.67795372],\n",
       "       [ 4417253.13222122],\n",
       "       [  -67324.86165619],\n",
       "       [ 1863202.0287571 ],\n",
       "       [ 4525170.78448105],\n",
       "       [ 4393271.43171883],\n",
       "       [ 4441234.83272362],\n",
       "       [ 3074277.90410805],\n",
       "       [ 1251668.66595459],\n",
       "       [ 2055055.63277245],\n",
       "       [  448281.69913864],\n",
       "       [  232446.39461899],\n",
       "       [ 3254140.65787315],\n",
       "       [ 1443522.26997185],\n",
       "       [ 3817710.61967087],\n",
       "       [ -606913.12295151],\n",
       "       [  -91306.56215668],\n",
       "       [  352354.89712906],\n",
       "       [ 4717024.3884964 ],\n",
       "       [ -391077.81843185],\n",
       "       [ -522977.17119408],\n",
       "       [ 2174964.13528252],\n",
       "       [ 4645079.28699112],\n",
       "       [ 3398030.86088562],\n",
       "       [ 4681051.83774376],\n",
       "       [ 1803247.77750206],\n",
       "       [ -918675.22947693],\n",
       "       [ -295151.01642418],\n",
       "       [ 3338076.60963058],\n",
       "       [ 1083796.76244164],\n",
       "       [ 3194186.40661812],\n",
       "       [ 1623385.02373695],\n",
       "       [ 4705033.53824615],\n",
       "       [ 2486726.24180984],\n",
       "       [ 1059815.06193924],\n",
       "       [   76565.34135628],\n",
       "       [ 4381280.58146858],\n",
       "       [ 3469975.9623909 ],\n",
       "       [ 3529930.21364594],\n",
       "       [ 4657070.13724136],\n",
       "       [  915924.85892677],\n",
       "       [ 3913637.42167854],\n",
       "       [  532217.65089417],\n",
       "       [ -690849.07470703],\n",
       "       [ 3745765.51816559],\n",
       "       [ 2774506.64783287],\n",
       "       [ 1179723.56444931],\n",
       "       [ 1095787.61269188],\n",
       "       [ 2234918.38653755],\n",
       "       [ 3541921.06389809],\n",
       "       [  136519.59261131],\n",
       "       [ 4021555.07393837],\n",
       "       [ 4357298.88096619],\n",
       "       [ 2186954.98553467],\n",
       "       [  544208.50114632],\n",
       "       [ 3026314.50310516],\n",
       "       [  616153.6026516 ],\n",
       "       [ 2474735.39155769],\n",
       "       [  436290.84888649],\n",
       "       [ 4477207.38347626],\n",
       "       [ 4345308.03071594],\n",
       "       [ 2930387.70109558],\n",
       "       [ -858720.97822189],\n",
       "       [ 3805719.76942062],\n",
       "       [ 2091028.18352509],\n",
       "       [ 2019083.08201981],\n",
       "       [  472263.39963913],\n",
       "       [ -175242.51391411],\n",
       "       [  736062.10516167],\n",
       "       [ -139269.96316147],\n",
       "       [ 1503476.52122688],\n",
       "       [ 2103019.03377724],\n",
       "       [  640135.30315399],\n",
       "       [ 1827229.47800446],\n",
       "       [ 1227686.9654541 ],\n",
       "       [ 4249381.22870636],\n",
       "       [  796016.3564167 ],\n",
       "       [-1026592.88173676],\n",
       "       [ 3038305.35335541],\n",
       "       [-1014602.0314846 ],\n",
       "       [  712080.40465927],\n",
       "       [ 3985582.52318573],\n",
       "       [ 1191714.41469955],\n",
       "       [ 3374049.16038322],\n",
       "       [ 1791256.92724991],\n",
       "       [ 3326085.75938034],\n",
       "       [ 1263659.51620674],\n",
       "       [ 3062287.0538578 ],\n",
       "       [ 4261372.07895851],\n",
       "       [ 4333317.18046379],\n",
       "       [ 2618625.59457016],\n",
       "       [ 1107778.46294403],\n",
       "       [ 3278122.35837555],\n",
       "       [ 3218168.10712051],\n",
       "       [ 1407549.71921921],\n",
       "       [ 4165445.27695084],\n",
       "       [  951897.40967941],\n",
       "       [ 3410021.71113586],\n",
       "       [  891943.15842438],\n",
       "       [ 3613866.16540337],\n",
       "       [ 2762515.79758263],\n",
       "       [   40592.79060364],\n",
       "       [ 1851211.17850494],\n",
       "       [ 2882424.3000927 ],\n",
       "       [  855970.60767174],\n",
       "       [ 2414781.14030266],\n",
       "       [  100547.04185867],\n",
       "       [ 3889655.72117615]])"
      ]
     },
     "execution_count": 56,
     "metadata": {},
     "output_type": "execute_result"
    }
   ],
   "source": [
    "y_pred"
   ]
  },
  {
   "cell_type": "code",
   "execution_count": 57,
   "id": "112bbb34",
   "metadata": {},
   "outputs": [],
   "source": [
    "from sklearn.metrics import mean_squared_error"
   ]
  },
  {
   "cell_type": "code",
   "execution_count": 58,
   "id": "664c7fb5",
   "metadata": {},
   "outputs": [
    {
     "data": {
      "text/plain": [
       "4652228024521.647"
      ]
     },
     "execution_count": 58,
     "metadata": {},
     "output_type": "execute_result"
    }
   ],
   "source": [
    "mean_squared_error(x_test,y_pred)"
   ]
  },
  {
   "cell_type": "code",
   "execution_count": 61,
   "id": "33abfb75",
   "metadata": {},
   "outputs": [
    {
     "data": {
      "text/plain": [
       "array([[-822748.42746925]])"
      ]
     },
     "execution_count": 61,
     "metadata": {},
     "output_type": "execute_result"
    }
   ],
   "source": [
    "lr.predict(np.array([[737510]]))"
   ]
  }
 ],
 "metadata": {
  "kernelspec": {
   "display_name": "Python 3",
   "language": "python",
   "name": "python3"
  },
  "language_info": {
   "codemirror_mode": {
    "name": "ipython",
    "version": 3
   },
   "file_extension": ".py",
   "mimetype": "text/x-python",
   "name": "python",
   "nbconvert_exporter": "python",
   "pygments_lexer": "ipython3",
   "version": "3.9.2"
  }
 },
 "nbformat": 4,
 "nbformat_minor": 5
}
